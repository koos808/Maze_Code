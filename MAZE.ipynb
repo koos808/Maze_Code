{
 "cells": [
  {
   "cell_type": "code",
   "execution_count": 30,
   "metadata": {
    "collapsed": true
   },
   "outputs": [],
   "source": [
    "import numpy as np\n",
    "from numpy.random import random_integers as rand\n",
    "import matplotlib.pyplot as pyplot"
   ]
  },
  {
   "cell_type": "markdown",
   "metadata": {},
   "source": [
    "## maze start[0,6]에서 goal[0,2]로 가는 code"
   ]
  },
  {
   "cell_type": "code",
   "execution_count": 72,
   "metadata": {
    "collapsed": true
   },
   "outputs": [],
   "source": [
    "grid = [[0, 0, 2, 1, 0, 0,0],\n",
    "        [0, 1, 0, 1, 0, 1,1],\n",
    "        [0, 1, 0, 1, 0, 0,0],\n",
    "        [0, 1, 0, 1, 0, 1,0],\n",
    "        [0, 1, 0, 0, 0, 1,0],\n",
    "        [0, 1, 0, 1, 0, 1,0],\n",
    "        [0, 0, 0, 1, 0, 0,0]]\n",
    "\n",
    "def search(x, y):\n",
    "    if grid[x][y] == 2:\n",
    "        print('found at %d,%d' % (x, y))\n",
    "        return True\n",
    "    elif grid[x][y] == 1:\n",
    "        print('wall at %d,%d' % (x, y))\n",
    "        return False\n",
    "    elif grid[x][y] == 3:\n",
    "        print('visited at %d,%d' % (x, y))\n",
    "        return False\n",
    "    \n",
    "    print('visiting %d,%d' % (x, y))\n",
    "\n",
    "    # mark as visited\n",
    "    grid[x][y] = 3\n",
    "\n",
    "    # explore neighbors clockwise starting by the one on the right\n",
    "    if ((x < len(grid)-1 and search(x+1, y))\n",
    "        or (y > 0 and search(x, y-1))\n",
    "        or (x > 0 and search(x-1, y))\n",
    "        or (y < len(grid)-1 and search(x, y+1))):\n",
    "        return True\n",
    "\n",
    "    return False\n"
   ]
  },
  {
   "cell_type": "code",
   "execution_count": 73,
   "metadata": {
    "scrolled": false
   },
   "outputs": [
    {
     "name": "stdout",
     "output_type": "stream",
     "text": [
      "visiting 0,6\n",
      "wall at 1,6\n",
      "visiting 0,5\n",
      "wall at 1,5\n",
      "visiting 0,4\n",
      "visiting 1,4\n",
      "visiting 2,4\n",
      "visiting 3,4\n",
      "visiting 4,4\n",
      "visiting 5,4\n",
      "visiting 6,4\n",
      "wall at 6,3\n",
      "visited at 5,4\n",
      "visiting 6,5\n",
      "visited at 6,4\n",
      "wall at 5,5\n",
      "visiting 6,6\n",
      "visited at 6,5\n",
      "visiting 5,6\n",
      "visited at 6,6\n",
      "wall at 5,5\n",
      "visiting 4,6\n",
      "visited at 5,6\n",
      "wall at 4,5\n",
      "visiting 3,6\n",
      "visited at 4,6\n",
      "wall at 3,5\n",
      "visiting 2,6\n",
      "visited at 3,6\n",
      "visiting 2,5\n",
      "wall at 3,5\n",
      "visited at 2,4\n",
      "wall at 1,5\n",
      "visited at 2,6\n",
      "wall at 1,6\n",
      "wall at 5,3\n",
      "visited at 4,4\n",
      "wall at 5,5\n",
      "visiting 4,3\n",
      "wall at 5,3\n",
      "visiting 4,2\n",
      "visiting 5,2\n",
      "visiting 6,2\n",
      "visiting 6,1\n",
      "visiting 6,0\n",
      "visiting 5,0\n",
      "visited at 6,0\n",
      "visiting 4,0\n",
      "visited at 5,0\n",
      "visiting 3,0\n",
      "visited at 4,0\n",
      "visiting 2,0\n",
      "visited at 3,0\n",
      "visiting 1,0\n",
      "visited at 2,0\n",
      "visiting 0,0\n",
      "visited at 1,0\n",
      "visiting 0,1\n",
      "wall at 1,1\n",
      "visited at 0,0\n",
      "found at 0,2\n"
     ]
    },
    {
     "data": {
      "text/plain": [
       "True"
      ]
     },
     "execution_count": 73,
     "metadata": {},
     "output_type": "execute_result"
    }
   ],
   "source": [
    "search(0,6)"
   ]
  },
  {
   "cell_type": "markdown",
   "metadata": {},
   "source": [
    "### 결론 :  START : (0,6) -> GOAL : (0,2)   => 시행착오 끝에 start에서 goal을 찾아서 들어감"
   ]
  },
  {
   "cell_type": "markdown",
   "metadata": {},
   "source": [
    "# 추가적인 2가지 CODE"
   ]
  },
  {
   "cell_type": "markdown",
   "metadata": {},
   "source": [
    "## Add1 : 7 x 7 미로 만들기[random seed 미정일 때 7x7 미로 임의로 생성]"
   ]
  },
  {
   "cell_type": "code",
   "execution_count": 133,
   "metadata": {
    "scrolled": false
   },
   "outputs": [
    {
     "name": "stderr",
     "output_type": "stream",
     "text": [
      "C:\\Users\\wlsah\\Anaconda3\\lib\\site-packages\\ipykernel_launcher.py:14: DeprecationWarning: This function is deprecated. Please call randint(0, 3 + 1) instead\n",
      "  \n",
      "C:\\Users\\wlsah\\Anaconda3\\lib\\site-packages\\ipykernel_launcher.py:23: DeprecationWarning: This function is deprecated. Please call randint(0, 1 + 1) instead\n",
      "C:\\Users\\wlsah\\Anaconda3\\lib\\site-packages\\ipykernel_launcher.py:23: DeprecationWarning: This function is deprecated. Please call randint(0, 3 + 1) instead\n",
      "C:\\Users\\wlsah\\Anaconda3\\lib\\site-packages\\ipykernel_launcher.py:23: DeprecationWarning: This function is deprecated. Please call randint(0, 2 + 1) instead\n"
     ]
    },
    {
     "data": {
      "image/png": "[encoded data removed]",
      "text/plain": [
       "<matplotlib.figure.Figure at 0x1b53cfe1470>"
      ]
     },
     "metadata": {},
     "output_type": "display_data"
    }
   ],
   "source": [
    "def maze(width=7, height=7, complexity=.75, density=.75):\n",
    "    # Only odd shapes\n",
    "    shape = ((height // 2) * 2 + 1, (width // 2) * 2 + 1)\n",
    "    # Adjust complexity and density relative to maze size\n",
    "    complexity = int(complexity * (5 * (shape[0] + shape[1])))\n",
    "    density    = int(density * ((shape[0] // 2) * (shape[1] // 2)))\n",
    "    # Build actual maze\n",
    "    Z = numpy.zeros(shape, dtype=bool)\n",
    "    # Fill borders\n",
    "    Z[0, :] = Z[-1, :] = 1\n",
    "    Z[:, 0] = Z[:, -1] = 1\n",
    "    # Make aisles\n",
    "    for i in range(density):\n",
    "        x, y = rand(0, shape[1] // 2) * 2, rand(0, shape[0] // 2) * 2\n",
    "        Z[y, x] = 1\n",
    "        for j in range(complexity):\n",
    "            neighbours = []\n",
    "            if x > 1:             neighbours.append((y, x - 2))\n",
    "            if x < shape[1] - 2:  neighbours.append((y, x + 2))\n",
    "            if y > 1:             neighbours.append((y - 2, x))\n",
    "            if y < shape[0] - 2:  neighbours.append((y + 2, x))\n",
    "            if len(neighbours):\n",
    "                y_,x_ = neighbours[rand(0, len(neighbours) - 1)]\n",
    "                if Z[y_, x_] == 0:\n",
    "                    Z[y_, x_] = 1\n",
    "                    Z[y_ + (y - y_) // 2, x_ + (x - x_) // 2] = 1\n",
    "                    x, y = x_, y_\n",
    "    return Z\n",
    "\n",
    "pyplot.figure(figsize=(10, 5))\n",
    "pyplot.imshow(maze(7, 7), cmap=pyplot.cm.binary, interpolation='nearest')\n",
    "pyplot.xticks([]), pyplot.yticks([])\n",
    "pyplot.show()"
   ]
  },
  {
   "cell_type": "markdown",
   "metadata": {},
   "source": [
    "## ADD2: sarsa를 이용한 gridworld, maze solve"
   ]
  },
  {
   "cell_type": "code",
   "execution_count": 134,
   "metadata": {
    "collapsed": true
   },
   "outputs": [],
   "source": [
    "import numpy as np\n",
    "import matplotlib.pyplot as plt"
   ]
  },
  {
   "cell_type": "code",
   "execution_count": 135,
   "metadata": {},
   "outputs": [
    {
     "data": {
      "image/png": "[encoded data removed]",
      "text/plain": [
       "<matplotlib.figure.Figure at 0x1b53bbdb7b8>"
      ]
     },
     "metadata": {},
     "output_type": "display_data"
    },
    {
     "name": "stdout",
     "output_type": "stream",
     "text": [
      "9.2599\n"
     ]
    },
    {
     "data": {
      "image/png": "[encoded data removed]",
      "text/plain": [
       "<matplotlib.figure.Figure at 0x1b53cf86ba8>"
      ]
     },
     "metadata": {},
     "output_type": "display_data"
    }
   ],
   "source": [
    "def directionPlot(weights):\n",
    "    fig,ax=plt.subplots(1,1)\n",
    "    data=np.empty((7,7))\n",
    "    c=0#counter\n",
    "    for x in range(6):\n",
    "        for y in range(6):\n",
    "            action=np.argmax(weights[:,c])\n",
    "            data[x,y]=action\n",
    "            \n",
    "            if x==1 and y==1:\n",
    "                continue\n",
    "                #dont draw arrow on goal\n",
    "            else:\n",
    "                if action == 0: #west\n",
    "                    ax.arrow(y+1,x+0.5,-0.7,0,head_width=0.2,color='w')\n",
    "                elif action == 1: #north\n",
    "                    ax.arrow(y+0.5,x,0,0.7,head_width=0.2,color='w')\n",
    "                elif action == 2: #east\n",
    "                    ax.arrow(y,x+0.5,0.7,0,head_width=0.2,color='w')\n",
    "                elif action == 3: #south\n",
    "                    ax.arrow(y+0.5,x+1,0,-0.7,head_width=0.2,color='w')\n",
    "                elif action == 4: #NW\n",
    "                    ax.arrow(y+1,x,-0.7,0.7,head_width=0.2,color='w')\n",
    "                elif action == 5: #NE\n",
    "                    ax.arrow(y,x,0.7,0.7,head_width=0.2,color='w')\n",
    "                elif action == 6: #SW\n",
    "                    ax.arrow(y+1,x+1,-0.7,-0.7,head_width=0.2,color='w')\n",
    "                elif action == 7: #SE\n",
    "                    ax.arrow(y,x+1,0.7,-0.7,head_width=0.2,color='w')\n",
    "                \n",
    "            c+=1\n",
    "    data[1,1]=-1        \n",
    "    #print data\n",
    "    \n",
    "    ax.pcolormesh(data) \n",
    "    ax.set_yticks(np.arange(0.5,8)) #set ticks midway through square\n",
    "    ax.set_xticks(np.arange(0.5,8))\n",
    "    ax.set_yticklabels(range(1,8))\n",
    "    ax.set_xticklabels(range(1,8))\n",
    "    #plt.colorbar()\n",
    "    plt.draw()\n",
    "    plt.show()\n",
    "    \n",
    "    \n",
    "\n",
    "def homing_nn(n_trials,learning_rate,eps,gamma,decay,actions,Trace):\n",
    "    n_steps = 50\n",
    "    ## Definition of the environment\n",
    "    N = 7                               #height of the gridworld ---> number of rows\n",
    "    M = 7                               #length of the gridworld ---> number of columns\n",
    "    N_states = N * M                    #total number of states\n",
    "    states_matrix = np.eye(N_states)\n",
    "    \n",
    "    N_actions=actions #which move set to use\n",
    "    #W N E S NW NE SW SE\n",
    "    action_row_change = np.array([-1,0,+1,0,-1,+1,-1,+1]) #x               #number of cell shifted in vertical as a function of the action\n",
    "    action_col_change = np.array([0,+1,0,-1,+1,+1,-1,-1]) #y               #number of cell shifted in horizontal as a function of the action\n",
    "    \n",
    "    End = np.array([3, 3])                                  #terminal state--->reward\n",
    "    s_end = np.ravel_multi_index(End,dims=(N,M),order='F')  #terminal state. Conversion in single index\n",
    "\n",
    "    ## Rewards\n",
    "    R = 1                              #only when the robot reaches the charger, sited in End state\n",
    "\n",
    "    ## Variables\n",
    "    weights = np.random.rand(N_actions,N_states)\n",
    "    #print weights\n",
    "    eligibility = np.zeros((N_actions,N_states))\n",
    "    #print eligibility\n",
    "    learning_curve = np.zeros((1,n_trials))\n",
    "\n",
    "    # Start trials\n",
    "    for trial in range(n_trials):\n",
    "        # Initialization\n",
    "        Start = np.array([6,6])   #random start\n",
    "        s_start = np.ravel_multi_index(Start,dims=(N,M),order='F')      #conversion in single index\n",
    "        state = Start                                                   #set current state\n",
    "        s_index = s_start                                               #conversion in single index\n",
    "        step = 0         \n",
    "\n",
    "        # Start steps\n",
    "        while s_index != s_end and step <= n_steps:\n",
    "            step += 1\n",
    "            learning_curve[0,trial] = step\n",
    "            input_vector = states_matrix[:,s_index].reshape(N_states,1)         #convert the state into an input vector        \n",
    "            #compute Qvalues. Qvalue=logsig(weights*input). Qvalue is 2x1, one value for each output neuron\n",
    "            Q = 1 / ( 1 + np.exp( - weights.dot(input_vector)))    #Qvalue is 2x1 implementation of logsig\n",
    "            #eps-greedy policy implementation\n",
    "            greedy = (np.random.rand() > eps)               #1--->greedy action 0--->non-greedy action\n",
    "            if eps>0:\n",
    "                eps-=0.01\n",
    "            if greedy:\n",
    "                action = np.argmax(Q)                           #pick best action\n",
    "            else:\n",
    "                action = np.random.randint(N_actions)           #pick random action\n",
    "\n",
    "            state_new = np.array([0,0])\n",
    "            #move into a new state\n",
    "            state_new[0] = state[0] + action_row_change[action]\n",
    "            state_new[1] = state[1] + action_col_change[action]\n",
    "           \n",
    "            #put the robot back in grid if it goes out. \n",
    "            #robot is given a negative reward for going off the grid\n",
    "            flag=False   \n",
    "            if state_new[0] < 0:\n",
    "                state_new[0] = 0\n",
    "                flag=True\n",
    "            if state_new[0] >= N:\n",
    "                state_new[0] = N-1\n",
    "                flag=True\n",
    "            if state_new[1] < 0:\n",
    "                state_new[1] = 0\n",
    "                flag=True\n",
    "            if state_new[1] >= M:\n",
    "                state_new[1] = M-1\n",
    "                flag=True\n",
    "\n",
    "            s_index_new = np.ravel_multi_index(state_new,dims=(N,M),order='F')  #conversion in a single index\n",
    "                                    \n",
    "            #update Qvalues\n",
    "            if step >1:\n",
    "                dw = learning_rate * (r_old - Q_old + gamma * Q[action]) * output_old.dot(input_old.T)\n",
    "                eligibility+=output_old.dot(input_old.T)\n",
    "                #use elegibility trace or not\n",
    "                if Trace ==True:\n",
    "                    weights+=dw*eligibility\n",
    "                    eligibility *= gamma*decay\n",
    "                else:\n",
    "                    weights+=dw\n",
    "\n",
    "            #store variables for sarsa computation in the next step\n",
    "            output = np.zeros((N_actions,1))\n",
    "            output[action] = 1\n",
    "           \n",
    "            #update variables\n",
    "            input_old = input_vector\n",
    "            output_old = output\n",
    "            Q_old = Q[action]\n",
    "            if flag==False:\n",
    "                r_old = 0\n",
    "            else:\n",
    "                r_old = -1\n",
    "\n",
    "            state[0] = state_new[0]\n",
    "            state[1] = state_new[1]\n",
    "            s_index = s_index_new\n",
    "\n",
    "            #check if state is terminal and update the weights consequently\n",
    "            if s_index == s_end:\n",
    "                dw = learning_rate * (R - Q_old) * output_old.dot(input_old.T)\n",
    "                eligibility+=output_old.dot(input_old.T)\n",
    "                if Trace ==True:\n",
    "                    weights+=dw*eligibility\n",
    "                    eligibility *= gamma*decay\n",
    "                else:\n",
    "                    weights+=dw\n",
    "      \n",
    "    return learning_curve,weights\n",
    "\n",
    "\n",
    "if __name__ == '__main__':\n",
    "    np.random.seed(32130775)\n",
    "    ##Alter these variables as needed##\n",
    "    alpha =1.0#learning rate\n",
    "    epsilon =0.1\n",
    "    gamma =0.8\n",
    "    n_trials = 100\n",
    "    decay = 0.9#lambda\n",
    "    actions = 4 #can be either 8 or 4 (standard or king's moves)\n",
    "    Trace=True #False=SARSA, True=SARSA(lambda), Eligibility trace\n",
    "    repetitions = 100   # number of episodes, should be integer, greater than 0; for statistical reasons\n",
    "\n",
    "    totalRewards = np.zeros((repetitions,n_trials))  # reward matrix. each row contains rewards obtained in one episode\n",
    "    \n",
    "    fontSize = 13\n",
    "    \n",
    "    # Start iterations over episodes\n",
    "    for j in range(repetitions):\n",
    "        learning_curve,weight=homing_nn(n_trials,alpha,epsilon,gamma,decay,actions,Trace)\n",
    "        totalRewards[j,:] = learning_curve\n",
    "        \n",
    "        if j==0:\n",
    "            weights=weight\n",
    "        else:\n",
    "            weights=(weights+weight)/2\n",
    "        if j==repetitions-1:\n",
    "            directionPlot(weights)\n",
    "    # Plot the average reward as a function of the number of trials --> the average has to be performed over the episodes\n",
    "    plt.figure()\n",
    "    means = np.mean(totalRewards, axis = 0)\n",
    "    print(np.mean(means))    \n",
    "    errors = 2 * np.std(totalRewards, axis = 0) / np.sqrt(repetitions) # errorbars are equal to twice standard error i.e. std/sqrt(samples)\n",
    "    plt.errorbar(np.arange(n_trials), means, errors, 0, elinewidth = 3,ecolor='cyan')\n",
    "    plt.axis([0,100,0,50])\n",
    "    plt.xlabel('Trial',fontsize = fontSize)\n",
    "    plt.ylabel('Number of Steps',fontsize = fontSize)\n",
    "\n",
    "    plt.show()"
   ]
  },
  {
   "cell_type": "markdown",
   "metadata": {},
   "source": [
    "### 1.totalRewards의 mean = 9.2599\n",
    "### 2.Trial <-> Number of steps graph"
   ]
  },
  {
   "cell_type": "markdown",
   "metadata": {},
   "source": [
    "### %%NOT SOLVE%%\n",
    "### 1.7X7 미로를 만들었으나 6x6 미로로 인식하는 문제.\n",
    "### 2.start 설정은 했으나 goal설정에서 인식못하는 문제."
   ]
  },
  {
   "cell_type": "code",
   "execution_count": null,
   "metadata": {
    "collapsed": true
   },
   "outputs": [],
   "source": []
  }
 ],
 "metadata": {
  "kernelspec": {
   "display_name": "Python 3",
   "language": "python",
   "name": "python3"
  },
  "language_info": {
   "codemirror_mode": {
    "name": "ipython",
    "version": 3
   },
   "file_extension": ".py",
   "mimetype": "text/x-python",
   "name": "python",
   "nbconvert_exporter": "python",
   "pygments_lexer": "ipython3",
   "version": "3.6.5"
  }
 },
 "nbformat": 4,
 "nbformat_minor": 2
}
